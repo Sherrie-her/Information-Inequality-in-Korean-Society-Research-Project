{
 "cells": [
  {
   "cell_type": "code",
   "execution_count": 1,
   "id": "f2ecae1d-ad3c-4067-a196-ae5f352f3087",
   "metadata": {},
   "outputs": [],
   "source": [
    "import requests\n",
    "from bs4 import BeautifulSoup\n",
    "from urllib.parse import urlparse, parse_qs\n",
    "import re\n",
    "import pandas as pd"
   ]
  },
  {
   "cell_type": "code",
   "execution_count": 2,
   "id": "5b74bb22-4f88-49b5-8504-1d846686b0d4",
   "metadata": {},
   "outputs": [],
   "source": [
    "def get_dirid(url):\n",
    "    match = re.search(r'dirId=12(\\d+)', url)\n",
    "    dirid_value = match.group(1)\n",
    "    return dirid_value"
   ]
  },
  {
   "cell_type": "code",
   "execution_count": 3,
   "id": "b7ff43c5-00d0-40fe-8244-5b70ccc6c172",
   "metadata": {},
   "outputs": [],
   "source": [
    "def get_docid(url):\n",
    "    match = re.search(r'docId=(\\d+)', url)\n",
    "    dirid_value = match.group(1)\n",
    "    return dirid_value"
   ]
  },
  {
   "cell_type": "code",
   "execution_count": 4,
   "id": "fe016a28-b8de-4355-adb8-bc6eef48cea7",
   "metadata": {},
   "outputs": [],
   "source": [
    "# dirID\n",
    "def get_loc(id=\"\"):\n",
    "    url = 'https://kin.naver.com/qna/list.naver?dirId=12'+id\n",
    "\n",
    "    # 페이지 요청\n",
    "    headers = {\n",
    "        'User-Agent': 'Mozilla/5.0 (Windows NT 10.0; Win64; x64) AppleWebKit/537.36 (KHTML, like Gecko) Chrome/91.0.4472.124 Safari/537.36'\n",
    "    }\n",
    "    response = requests.get(url, headers=headers)\n",
    "    \n",
    "    # BeautifulSoup으로 페이지 파싱\n",
    "    soup = BeautifulSoup(response.text, 'html.parser')\n",
    "    \n",
    "    # 질문 제목 추출\n",
    "    location = soup.find(attrs={'class': 'location'}).get_text(strip=True)\n",
    "    return location"
   ]
  },
  {
   "cell_type": "code",
   "execution_count": 5,
   "id": "0b5c0416-c157-483b-b56e-07810ef6c19c",
   "metadata": {},
   "outputs": [],
   "source": [
    "def find_pattern(text):\n",
    "    # 문자열 길이의 절반까지 탐색(더 긴 패턴은 두 번 반복될 수 없으므로)\n",
    "    for length in range(1, len(text)):\n",
    "        # 길이 `length`만큼 패턴을 잘라서 비교\n",
    "        pattern = text[:length]\n",
    "        # 패턴이 두 번 연속 반복되는지 확인\n",
    "        if text.startswith(pattern * 2):\n",
    "            return pattern"
   ]
  },
  {
   "cell_type": "code",
   "execution_count": 6,
   "id": "1365ec70-a5e8-4bc3-a78f-0659e079b09d",
   "metadata": {},
   "outputs": [],
   "source": [
    "# 지역 & 플레이스 기본 정보 문자열 제거를 위한 변수 지정\n",
    "url2 = 'https://kin.naver.com/qna/list.naver?dirId=12'\n",
    "headers2 = {\n",
    "    'User-Agent': 'Mozilla/5.0 (Windows NT 10.0; Win64; x64) AppleWebKit/537.36 (KHTML, like Gecko) Chrome/91.0.4472.124 Safari/537.36'\n",
    "}\n",
    "response2 = requests.get(url2, headers=headers2)\n",
    "soup2 = BeautifulSoup(response2.text, 'html.parser')\n",
    "useless_information = soup2.find(attrs={'class': 'location'}).get_text(strip=True)\n",
    "\n",
    "def return_location(search):\n",
    "    a = get_loc(search[:-2]+\"01\").replace(get_loc(search[:-2]),\"\")\n",
    "    a_elim = get_loc(search[:-len(search)]+search[-len(search):-2]).replace(get_loc(search[:-len(search)]),\"\")\n",
    "    first_loc = find_pattern(a)\n",
    "    a = a[len(first_loc):]\n",
    "    b = get_loc(search).replace(a,\"\")\n",
    "    c = b.replace(useless_information, \"\")\n",
    "    return c.replace(a_elim,\"\")\n",
    "    \n",
    "def return_full_location(search):\n",
    "    r = \"\"\n",
    "    n = 2\n",
    "    while n <= len(search):\n",
    "        r += return_location(search[:n])+ \" \"\n",
    "        n += 2\n",
    "    return r"
   ]
  },
  {
   "cell_type": "code",
   "execution_count": 7,
   "id": "1e34cd25-0a16-4036-b404-250a0b8a3e13",
   "metadata": {},
   "outputs": [],
   "source": [
    "def show_information(url):\n",
    "    # 페이지 요청\n",
    "    headers = {\n",
    "        'User-Agent': 'Mozilla/5.0 (Windows NT 10.0; Win64; x64) AppleWebKit/537.36 (KHTML, like Gecko) Chrome/91.0.4472.124 Safari/537.36'\n",
    "    }\n",
    "    response = requests.get(url, headers=headers)\n",
    "    \n",
    "    # BeautifulSoup으로 페이지 파싱\n",
    "    soup = BeautifulSoup(response.text, 'html.parser')\n",
    "    \n",
    "    # 질문 제목 추출\n",
    "    title = soup.find(attrs={'class': 'endTitleSection'}).get_text(strip=True)\n",
    "    Q_detail= soup.find(attrs={'class': 'questionDetail'}).get_text(strip=True,separator='\\n')\n",
    "    try:\n",
    "        answer = soup.find(attrs={'class': 'se-module se-module-text'}).get_text(strip = True, separator = \"\\n\")\n",
    "    except:\n",
    "        answer = \"아직 답변이 없습니다\"\n",
    "    \n",
    "    print(\"제목:\\n\", title, \"\\n\", '-'*40)\n",
    "    print(\"질문 내용:\\n\", Q_detail,'\\n','-'*40)\n",
    "    print(\"답변:\\n\", answer,'\\n','-'*40)\n",
    "    print(\"위치:\\n\", return_full_location(get_dirid(url)), '\\n', '-'*40)\n",
    "    print(\"문서 번호:\\n\", get_docid(url), '\\n', '-'*40)"
   ]
  },
  {
   "cell_type": "code",
   "execution_count": 8,
   "id": "a2c1eaa2-5ce0-47c6-99af-c101e403ff37",
   "metadata": {},
   "outputs": [
    {
     "name": "stdout",
     "output_type": "stream",
     "text": [
      "제목:\n",
      " 질문미아사거리 놀 곳 어디 있는지 알려주세요 \n",
      " ----------------------------------------\n",
      "질문 내용:\n",
      " 곳 가는데 갈 곳이 없어서요ㅜ 부탁드려요 \n",
      " ----------------------------------------\n",
      "답변:\n",
      " 미아사거리역   주변 추천지 입니다\n",
      "​\n",
      "1.장소 입니다\n",
      "보드게임카페\n",
      "만화카페\n",
      "디저트카페\n",
      "볼링장\n",
      "포켓볼\n",
      "탁구장\n",
      "인생네컷\n",
      "인형뽑기방\n",
      "영화관\n",
      "PC방\n",
      "맛집가기\n",
      "서점가기\n",
      "​\n",
      "2.명소 입니다\n",
      "북서울꿈의 숲\n",
      "현대백화점\n",
      "롯데백화점 \n",
      " ----------------------------------------\n",
      "위치:\n",
      " 서울특별시 강북구 미아동  \n",
      " ----------------------------------------\n",
      "문서 번호:\n",
      " 475395637 \n",
      " ----------------------------------------\n"
     ]
    }
   ],
   "source": [
    "url = 'https://kin.naver.com/qna/detail.naver?d1id=12&dirId=12011701&docId=475395637'\n",
    "\n",
    "show_information(url)"
   ]
  },
  {
   "cell_type": "code",
   "execution_count": 9,
   "id": "6350aebf-d2c3-4f85-b9d4-e38f75558b9a",
   "metadata": {},
   "outputs": [
    {
     "name": "stdout",
     "output_type": "stream",
     "text": [
      "제목:\n",
      " 질문분당고 근처 스카나 독서실 추천 \n",
      " ----------------------------------------\n",
      "질문 내용:\n",
      " 추석 때 분당고 근처로 가서,,, 하루 정도 공부할 수 있는 경기도에 있는 분당고 근처 스카나 독서실 좋은 곳 추천해주실 수 있나욤,, \n",
      " ----------------------------------------\n",
      "답변:\n",
      " 아직 답변이 없습니다 \n",
      " ----------------------------------------\n",
      "위치:\n",
      " 경기도 성남시 분당구 수내동  \n",
      " ----------------------------------------\n",
      "문서 번호:\n",
      " 475397693 \n",
      " ----------------------------------------\n"
     ]
    }
   ],
   "source": [
    "url2 = 'https://kin.naver.com/qna/detail.naver?d1id=12&dirId=1209150111&docId=475397693'\n",
    "\n",
    "show_information(url2)"
   ]
  },
  {
   "cell_type": "code",
   "execution_count": 10,
   "id": "dc22bf04-6b3a-451f-b249-3b7e6233b570",
   "metadata": {},
   "outputs": [
    {
     "name": "stdout",
     "output_type": "stream",
     "text": [
      "제목:\n",
      " 질문수원 성균관대 앞에서 112번이나 118번 버스 노선 잘 아시는분 \n",
      " ----------------------------------------\n",
      "질문 내용:\n",
      " 성균관대 앞에서 112번이나 118번을 타면 권선2지구 간다고 들었는데요.\n",
      "제가 과외 때문에 권선주공2차 아파트 를 가야 할것 같은데,,\n",
      "수원쪽 교통은 전혀 몰라서요,,\n",
      "알아내고 알아낸게 저 버스 두개 밖에 없는데요,,\n",
      "성균관대에서 권선동 주공2차 아파트 까지 갈수 있는 가장 가까운 버스 노선 아시는분 있으면 좀 알려주시겠어요..\n",
      "시간이 어느정도 걸리는지도요.\n",
      "답변해주시면 정말 감사드릴께요,,^^ \n",
      " ----------------------------------------\n",
      "답변:\n",
      " 아직 답변이 없습니다 \n",
      " ----------------------------------------\n",
      "위치:\n",
      " 경기도 수원시 장안구 율전동  \n",
      " ----------------------------------------\n",
      "문서 번호:\n",
      " 20450042 \n",
      " ----------------------------------------\n"
     ]
    }
   ],
   "source": [
    "url3 = 'https://kin.naver.com/qna/detail.naver?d1id=12&dirId=1209160305&docId=20450042&qb=7ISx6reg6rSA64yAIOyVng==&enc=utf8&section=kin.qna_ency&rank=1&search_sort=0&spq=0'\n",
    "\n",
    "show_information(url3)"
   ]
  },
  {
   "cell_type": "code",
   "execution_count": 11,
   "id": "76e7b207-fff0-4ed9-bb92-ca952028a177",
   "metadata": {},
   "outputs": [
    {
     "name": "stdout",
     "output_type": "stream",
     "text": [
      "제목:\n",
      " 질문성균관대 앞 빙수킹 아직도 있나요? \n",
      " ----------------------------------------\n",
      "질문 내용:\n",
      " 성균관대 앞 빙수킹 아직도 있나요?\n",
      "정확한 위치 좀 알려주세요\n",
      "전에 한번 찾아갔는데 못 찾겠더라구요.\n",
      "맛있나요? \n",
      " ----------------------------------------\n",
      "답변:\n",
      " 아직 답변이 없습니다 \n",
      " ----------------------------------------\n",
      "위치:\n",
      " 서울특별시 종로구 명륜동  \n",
      " ----------------------------------------\n",
      "문서 번호:\n",
      " 20855086 \n",
      " ----------------------------------------\n"
     ]
    }
   ],
   "source": [
    "url4 = 'https://kin.naver.com/qna/detail.naver?d1id=12&dirId=12013723&docId=20855086&qb=7ISx6reg6rSA64yAIOyVng==&enc=utf8&section=kin.qna_ency&rank=7&search_sort=0&spq=0'\n",
    "\n",
    "show_information(url4)"
   ]
  },
  {
   "cell_type": "code",
   "execution_count": 12,
   "id": "3adf6bd1-37ab-4251-bc20-feb3f666134a",
   "metadata": {},
   "outputs": [
    {
     "name": "stdout",
     "output_type": "stream",
     "text": [
      "제목:\n",
      " 질문고양종합운동장 근처 포토이즘 \n",
      " ----------------------------------------\n",
      "질문 내용:\n",
      " 고양종합운동장 근처에 포토이즘 있나요?\n",
      "있다면 지점명 알려주세요!\n",
      "콘서트 가는김에 응원봉이나 굿즈 들고 찍고싶어요 \n",
      " ----------------------------------------\n",
      "답변:\n",
      " 고양종합운동장, 대화역, 킨텍스 쪽엔 없습니다\n",
      "그나마 제일 가까운 곳이라면\n",
      "정발산역 라페스타, 웨스턴돔에 있습니다 \n",
      " ----------------------------------------\n",
      "위치:\n",
      " 경기도 고양시 덕양구 고양동  \n",
      " ----------------------------------------\n",
      "문서 번호:\n",
      " 475351028 \n",
      " ----------------------------------------\n"
     ]
    }
   ],
   "source": [
    "url5 = 'https://kin.naver.com/qna/detail.naver?d1id=12&dirId=1209050102&docId=475351028'\n",
    "\n",
    "show_information(url5)"
   ]
  }
 ],
 "metadata": {
  "kernelspec": {
   "display_name": "Python 3 (ipykernel)",
   "language": "python",
   "name": "python3"
  },
  "language_info": {
   "codemirror_mode": {
    "name": "ipython",
    "version": 3
   },
   "file_extension": ".py",
   "mimetype": "text/x-python",
   "name": "python",
   "nbconvert_exporter": "python",
   "pygments_lexer": "ipython3",
   "version": "3.12.4"
  }
 },
 "nbformat": 4,
 "nbformat_minor": 5
}
